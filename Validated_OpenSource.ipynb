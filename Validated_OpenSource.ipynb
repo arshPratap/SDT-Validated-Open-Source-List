{
 "cells": [
  {
   "cell_type": "markdown",
   "metadata": {},
   "source": [
    "# Validated Open Source Data Source Preparation\n",
    "\n",
    "## 1. INITIATING THE JSON ONJECT\n",
    "In this step , we will focus on retrieving the json data and initiating a json object."
   ]
  },
  {
   "cell_type": "code",
   "execution_count": 20,
   "metadata": {},
   "outputs": [],
   "source": [
    "import json\n",
    "from urllib.request import urlopen"
   ]
  },
  {
   "cell_type": "code",
   "execution_count": 21,
   "metadata": {},
   "outputs": [],
   "source": [
    "url = \"https://www.ibm.com/community/z/open-source-software/output/json/\""
   ]
  },
  {
   "cell_type": "code",
   "execution_count": 22,
   "metadata": {},
   "outputs": [],
   "source": [
    "response = urlopen(url)"
   ]
  },
  {
   "cell_type": "code",
   "execution_count": 23,
   "metadata": {},
   "outputs": [],
   "source": [
    "data_json = json.loads(response.read())"
   ]
  },
  {
   "cell_type": "code",
   "execution_count": 24,
   "metadata": {},
   "outputs": [
    {
     "name": "stdout",
     "output_type": "stream",
     "text": [
      "{'name': 'Alfresco', 'os_versions': [{'os': 'Ubuntu 20.x', 'versions': [{'url': 'https://github.com/linux-on-ibm-z/docs/wiki/Building-Alfresco', 'name': '7.x'}]}, {'os': 'RHEL 8.x', 'versions': [{'url': 'https://github.com/linux-on-ibm-z/docs/wiki/Building-Alfresco', 'name': '7.x'}]}, {'os': 'Ubuntu 18.x', 'versions': [{'url': 'https://github.com/linux-on-ibm-z/docs/wiki/Building-Alfresco', 'name': '7.x'}]}, {'os': 'SLES 15.x', 'versions': [{'url': 'https://github.com/linux-on-ibm-z/docs/wiki/Building-Alfresco', 'name': '7.x'}]}, {'os': 'Dockerfile/Image', 'versions': [{'url': 'https://github.com/linux-on-ibm-z/docs/wiki/Building-Alfresco', 'name': 'Via 7.x'}]}, {'os': 'RHEL 7.x', 'versions': [{'url': 'https://github.com/linux-on-ibm-z/docs/wiki/Building-Alfresco', 'name': '7.x'}]}, {'os': 'SLES 12.x', 'versions': [{'url': 'https://github.com/linux-on-ibm-z/docs/wiki/Building-Alfresco', 'name': '7.x'}]}]}\n"
     ]
    }
   ],
   "source": [
    "print(data_json['Alfresco']) #simple testing"
   ]
  },
  {
   "cell_type": "markdown",
   "metadata": {},
   "source": [
    "## 2. Filtering out the required OS keys\n",
    "The json data,for every open source data consists of information regarding several operating systems.We need to filter out the information that we need,and hence we will find the list of all possible Operating Systems."
   ]
  },
  {
   "cell_type": "code",
   "execution_count": 25,
   "metadata": {},
   "outputs": [],
   "source": [
    "def get_OSList(data):\n",
    "    softwares = data.keys()\n",
    "    os_list = []\n",
    "    for software in softwares:\n",
    "        L = data[software]['os_versions']\n",
    "        for l in L:\n",
    "            os_list.append(l['os'])\n",
    "    os_list = set(os_list)\n",
    "    return os_list"
   ]
  },
  {
   "cell_type": "code",
   "execution_count": 26,
   "metadata": {},
   "outputs": [
    {
     "name": "stdout",
     "output_type": "stream",
     "text": [
      "{'RHEL 7.x', 'Dockerfile/Image', 'RHEL 8.x', 'Ubuntu 20.x', 'SLES 15.x', 'SLES 12.x', 'Ubuntu 18.x'}\n"
     ]
    }
   ],
   "source": [
    "print(get_OSList(data=data_json))"
   ]
  },
  {
   "cell_type": "markdown",
   "metadata": {},
   "source": [
    "## 3. Creating the required JSON object\n",
    "Once we know what content to filter,we now focus on creating a json file with the right OS key.From the above list ,we will be using Ubuntu 18.x(Debian Buster), Ubuntu 20.x(Debian Bullseye) and SLES 15.x(OpenSUSE Leap 15)"
   ]
  },
  {
   "cell_type": "code",
   "execution_count": 27,
   "metadata": {},
   "outputs": [],
   "source": [
    "def getName(data,key):\n",
    "    return data[key]['name']"
   ]
  },
  {
   "cell_type": "code",
   "execution_count": 28,
   "metadata": {},
   "outputs": [],
   "source": [
    "def getDescription(data,key,oskey):\n",
    "    L = data[key]['os_versions']\n",
    "    for l in L:\n",
    "        if oskey==l['os']:\n",
    "            for i in l['versions']:\n",
    "                if i['name'] != 'Distro':\n",
    "                    return i['url']"
   ]
  },
  {
   "cell_type": "code",
   "execution_count": 29,
   "metadata": {},
   "outputs": [],
   "source": [
    "def getVersion(data,key,oskey,distroNeeded = False):\n",
    "    L = data[key]['os_versions']\n",
    "    for l in L:\n",
    "        if l['os']==oskey:\n",
    "            if len(l['versions'])==2 and distroNeeded==True:\n",
    "                return \"Distro\"\n",
    "            else:\n",
    "                for i in l['versions']:\n",
    "                    if i['name']!='Distro':\n",
    "                        return i['name']"
   ]
  },
  {
   "cell_type": "code",
   "execution_count": 30,
   "metadata": {},
   "outputs": [],
   "source": [
    "def createDict(name,description,version):\n",
    "    obj = {\"packageName\":name,\n",
    "            \"description\":description,\n",
    "            \"version\":version\n",
    "        }\n",
    "    return obj"
   ]
  },
  {
   "cell_type": "code",
   "execution_count": 31,
   "metadata": {},
   "outputs": [],
   "source": [
    "def getSoftwareList(data,oskey):\n",
    "    softwares = data.keys()\n",
    "    swlist=[]\n",
    "    for software in softwares:\n",
    "        name = getName(data=data,key=software)\n",
    "        desc = getDescription(data=data,key=software,oskey=oskey)\n",
    "        ver = getVersion(data=data,key=software,oskey=oskey)\n",
    "        obj = createDict(name=name,description=desc,version=ver)\n",
    "        swlist.append(obj)\n",
    "    return swlist"
   ]
  },
  {
   "cell_type": "markdown",
   "metadata": {},
   "source": [
    "### 3.1 Storing Open SUSE 15.x open source list"
   ]
  },
  {
   "cell_type": "code",
   "execution_count": 32,
   "metadata": {},
   "outputs": [],
   "source": [
    "swlist = getSoftwareList(data=data_json,oskey='SLES 15.x')\n",
    "with open('OpenSUSE_Leap_15_OpenSource_List.json','w') as file:\n",
    "    json.dump(swlist,file,indent=2)"
   ]
  },
  {
   "cell_type": "markdown",
   "metadata": {},
   "source": [
    "### 3.2 Storing Ubuntu 18.x open source list"
   ]
  },
  {
   "cell_type": "code",
   "execution_count": 33,
   "metadata": {},
   "outputs": [],
   "source": [
    "swlist = getSoftwareList(data=data_json,oskey='Ubuntu 18.x')\n",
    "with open('Debian_Buster_OpenSource_List.json','w') as file:\n",
    "    json.dump(swlist,file,indent=2)"
   ]
  },
  {
   "cell_type": "markdown",
   "metadata": {},
   "source": [
    "### 3.3 Storing Ubuntu 20.x open source list"
   ]
  },
  {
   "cell_type": "code",
   "execution_count": 34,
   "metadata": {},
   "outputs": [],
   "source": [
    "swlist = getSoftwareList(data=data_json,oskey='Ubuntu 20.x')\n",
    "with open('Debian_Bullseye_OpenSource_List.json','w') as file:\n",
    "    json.dump(swlist,file,indent=2)"
   ]
  }
 ],
 "metadata": {
  "interpreter": {
   "hash": "2e39aecaa8dbfabba9385bd7476c6341982bfebf7bca02a6cd911ee2ccb707a4"
  },
  "kernelspec": {
   "display_name": "Python 3.8.10 ('lfxvenv': venv)",
   "language": "python",
   "name": "python3"
  },
  "language_info": {
   "codemirror_mode": {
    "name": "ipython",
    "version": 3
   },
   "file_extension": ".py",
   "mimetype": "text/x-python",
   "name": "python",
   "nbconvert_exporter": "python",
   "pygments_lexer": "ipython3",
   "version": "3.8.10"
  },
  "orig_nbformat": 4
 },
 "nbformat": 4,
 "nbformat_minor": 2
}
